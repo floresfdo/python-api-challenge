{
 "cells": [
  {
   "cell_type": "markdown",
   "metadata": {},
   "source": [
    "# WeatherPy\n",
    "----\n",
    "\n",
    "#### Note\n",
    "* Instructions have been included for each segment. You do not have to follow them exactly, but they are included to help you think through the steps."
   ]
  },
  {
   "cell_type": "code",
   "execution_count": 11,
   "metadata": {
    "scrolled": true
   },
   "outputs": [],
   "source": [
    "# Dependencies and Setup\n",
    "import matplotlib.pyplot as plt\n",
    "import pandas as pd\n",
    "import numpy as np\n",
    "import requests\n",
    "import time\n",
    "from scipy.stats import linregress\n",
    "from pprint import pprint\n",
    "\n",
    "# Import API key\n",
    "from api_keys import weather_api_key\n",
    "\n",
    "# Incorporated citipy to determine city based on latitude and longitude\n",
    "from citipy import citipy\n",
    "\n",
    "# Output File (CSV)\n",
    "output_data_file = \"../output_data/cities.csv\"\n",
    "\n",
    "# Range of latitudes and longitudes\n",
    "lat_range = (-90, 90)\n",
    "lng_range = (-180, 180)"
   ]
  },
  {
   "cell_type": "markdown",
   "metadata": {},
   "source": [
    "## Generate Cities List"
   ]
  },
  {
   "cell_type": "code",
   "execution_count": 80,
   "metadata": {},
   "outputs": [
    {
     "data": {
      "text/plain": [
       "598"
      ]
     },
     "execution_count": 80,
     "metadata": {},
     "output_type": "execute_result"
    }
   ],
   "source": [
    "# List for holding lat_lngs and cities\n",
    "lat_lngs = []\n",
    "cities = []\n",
    "\n",
    "# Create a set of random lat and lng combinations\n",
    "lats = np.random.uniform(lat_range[0], lat_range[1], size=1500)\n",
    "lngs = np.random.uniform(lng_range[0], lng_range[1], size=1500)\n",
    "lat_lngs = zip(lats, lngs)\n",
    "\n",
    "# Identify nearest city for each lat, lng combination\n",
    "for lat_lng in lat_lngs:\n",
    "    city = citipy.nearest_city(lat_lng[0], lat_lng[1]).city_name\n",
    "    \n",
    "    # If the city is unique, then add it to a our cities list\n",
    "    if city not in cities:\n",
    "        cities.append(city)\n",
    "\n",
    "# Print the city count to confirm sufficient count\n",
    "len(cities)"
   ]
  },
  {
   "cell_type": "markdown",
   "metadata": {},
   "source": [
    "### Perform API Calls\n",
    "* Perform a weather check on each city using a series of successive API calls.\n",
    "* Include a print log of each city as it'sbeing processed (with the city number and city name).\n"
   ]
  },
  {
   "cell_type": "code",
   "execution_count": 58,
   "metadata": {
    "scrolled": true
   },
   "outputs": [
    {
     "name": "stdout",
     "output_type": "stream",
     "text": [
      "Beginning Data Retrieval\n",
      "-----------------------------\n",
      "Processing Record 1 of Set 1 | lavrentiya\n",
      "Processing Record 2 of Set 1 | georgetown\n",
      "Processing Record 3 of Set 1 | ushuaia\n",
      "Processing Record 4 of Set 1 | sena madureira\n",
      "Processing Record 5 of Set 1 | nizhneyansk\n",
      "City not found.. Skipping\n",
      "Processing Record 6 of Set 1 | hithadhoo\n",
      "Processing Record 7 of Set 1 | lamtah\n",
      "Processing Record 8 of Set 1 | saint anthony\n",
      "Processing Record 9 of Set 1 | armizonskoye\n",
      "Processing Record 10 of Set 1 | kupang\n",
      "Processing Record 11 of Set 1 | ostersund\n",
      "Processing Record 12 of Set 1 | tautira\n",
      "Processing Record 13 of Set 1 | sentyabrskiy\n",
      "City not found.. Skipping\n",
      "Processing Record 14 of Set 1 | new norfolk\n",
      "Processing Record 15 of Set 1 | vaini\n",
      "Processing Record 16 of Set 1 | amderma\n",
      "City not found.. Skipping\n",
      "Processing Record 17 of Set 1 | hobart\n",
      "Processing Record 18 of Set 1 | busselton\n",
      "Processing Record 19 of Set 1 | redmond\n",
      "Processing Record 20 of Set 1 | mataura\n",
      "Processing Record 21 of Set 1 | ponta do sol\n",
      "Processing Record 22 of Set 1 | barrow\n",
      "Processing Record 23 of Set 1 | fort saint james\n",
      "Processing Record 24 of Set 1 | bluff\n",
      "Processing Record 25 of Set 1 | vallenar\n",
      "Processing Record 26 of Set 1 | mys shmidta\n",
      "City not found.. Skipping\n",
      "Processing Record 27 of Set 1 | cape town\n",
      "Processing Record 28 of Set 1 | plerin\n",
      "Processing Record 29 of Set 1 | port elizabeth\n",
      "Processing Record 30 of Set 1 | gat\n",
      "Processing Record 31 of Set 1 | jamestown\n",
      "Processing Record 32 of Set 1 | osinki\n",
      "Processing Record 33 of Set 1 | rikitea\n",
      "Processing Record 34 of Set 1 | mana\n",
      "Processing Record 35 of Set 1 | vaitupu\n",
      "City not found.. Skipping\n",
      "Processing Record 36 of Set 1 | kazalinsk\n",
      "City not found.. Skipping\n",
      "Processing Record 37 of Set 1 | eydhafushi\n",
      "Processing Record 38 of Set 1 | svecha\n",
      "Processing Record 39 of Set 1 | east london\n",
      "Processing Record 40 of Set 1 | inhambane\n",
      "Processing Record 41 of Set 1 | sao joao da barra\n",
      "Processing Record 42 of Set 1 | chokurdakh\n",
      "Processing Record 43 of Set 1 | abha\n",
      "Processing Record 44 of Set 1 | atuona\n",
      "Processing Record 45 of Set 1 | tsihombe\n",
      "City not found.. Skipping\n",
      "Processing Record 46 of Set 1 | coquimbo\n",
      "Processing Record 47 of Set 1 | kodiak\n",
      "Processing Record 48 of Set 1 | upernavik\n",
      "Processing Record 49 of Set 1 | ossora\n",
      "Processing Record 50 of Set 1 | ancud\n",
      "Beginning Data Retrieval\n",
      "-----------------------------\n",
      "Processing Record 1 of Set 2 | isangel\n",
      "Processing Record 2 of Set 2 | tongzi\n",
      "Processing Record 3 of Set 2 | saskylakh\n",
      "Processing Record 4 of Set 2 | khani\n",
      "Processing Record 5 of Set 2 | sri aman\n",
      "Processing Record 6 of Set 2 | olafsvik\n",
      "Processing Record 7 of Set 2 | talnakh\n",
      "Processing Record 8 of Set 2 | iquitos\n",
      "Processing Record 9 of Set 2 | port lincoln\n",
      "Processing Record 10 of Set 2 | avarua\n",
      "Processing Record 11 of Set 2 | faya\n",
      "Processing Record 12 of Set 2 | suntar\n",
      "Processing Record 13 of Set 2 | tuktoyaktuk\n",
      "Processing Record 14 of Set 2 | thompson\n",
      "Processing Record 15 of Set 2 | cabo san lucas\n",
      "Processing Record 16 of Set 2 | carnarvon\n",
      "Processing Record 17 of Set 2 | riyadh\n",
      "Processing Record 18 of Set 2 | yerbogachen\n",
      "Processing Record 19 of Set 2 | narsaq\n",
      "Processing Record 20 of Set 2 | narrabri\n",
      "Processing Record 21 of Set 2 | punta arenas\n",
      "Processing Record 22 of Set 2 | lompoc\n",
      "Processing Record 23 of Set 2 | qaanaaq\n",
      "Processing Record 24 of Set 2 | puerto carreno\n",
      "Processing Record 25 of Set 2 | bajo baudo\n",
      "City not found.. Skipping\n",
      "Processing Record 26 of Set 2 | cap malheureux\n",
      "Processing Record 27 of Set 2 | synya\n",
      "Processing Record 28 of Set 2 | petropavlovsk-kamchatskiy\n",
      "Processing Record 29 of Set 2 | kalaleh\n",
      "Processing Record 30 of Set 2 | katsuura\n",
      "Processing Record 31 of Set 2 | naze\n",
      "Processing Record 32 of Set 2 | amga\n",
      "Processing Record 33 of Set 2 | mandla\n",
      "Processing Record 34 of Set 2 | khonuu\n",
      "City not found.. Skipping\n",
      "Processing Record 35 of Set 2 | puerto ayora\n",
      "Processing Record 36 of Set 2 | yellowknife\n",
      "Processing Record 37 of Set 2 | bengkulu\n",
      "Processing Record 38 of Set 2 | taolanaro\n",
      "City not found.. Skipping\n",
      "Processing Record 39 of Set 2 | flinders\n",
      "Processing Record 40 of Set 2 | lagoa\n",
      "Processing Record 41 of Set 2 | esperance\n",
      "Processing Record 42 of Set 2 | sarh\n",
      "Processing Record 43 of Set 2 | bredasdorp\n",
      "Processing Record 44 of Set 2 | airai\n",
      "Processing Record 45 of Set 2 | formosa\n",
      "Processing Record 46 of Set 2 | nikolskoye\n",
      "Processing Record 47 of Set 2 | dingle\n",
      "Processing Record 48 of Set 2 | kutum\n",
      "Processing Record 49 of Set 2 | mar del plata\n",
      "Processing Record 50 of Set 2 | yunyang\n",
      "Beginning Data Retrieval\n",
      "-----------------------------\n",
      "Processing Record 1 of Set 3 | hilo\n",
      "Processing Record 2 of Set 3 | albany\n",
      "Processing Record 3 of Set 3 | port alfred\n",
      "Processing Record 4 of Set 3 | pontes e lacerda\n",
      "Processing Record 5 of Set 3 | iqaluit\n",
      "Processing Record 6 of Set 3 | mananara\n",
      "Processing Record 7 of Set 3 | alofi\n",
      "Processing Record 8 of Set 3 | pilkhuwa\n",
      "Processing Record 9 of Set 3 | poum\n",
      "Processing Record 10 of Set 3 | rio gallegos\n"
     ]
    }
   ],
   "source": [
    "base_url = \"http://api.openweathermap.org/data/2.5/weather?\"\n",
    "units = \"imperial\"\n",
    "query_url = f\"{base_url}appid={weather_api_key}&units={units}&q=\"\n",
    "\n",
    "counter = 0\n",
    "set = 1\n",
    "temp=[]\n",
    "lat=[]\n",
    "lng=[]\n",
    "hum=[]\n",
    "cloud=[]\n",
    "wind=[]\n",
    "country=[]\n",
    "max_temp=[]\n",
    "min_temp=[]\n",
    "date=[]\n",
    "cty=[]\n",
    "\n",
    "for city in cities:\n",
    "    try:\n",
    "        \n",
    "        if counter == 0:\n",
    "            print(\"Beginning Data Retrieval\")\n",
    "            print(\"-----------------------------\")\n",
    "        counter += 1           \n",
    "        print(f\"Processing Record {counter} of Set {set} | {city}\")\n",
    "        response = requests.get(query_url + city).json()\n",
    "        cloud.append(response['clouds']['all'])\n",
    "        lat.append(response['coord']['lat'])\n",
    "        lng.append(response['coord']['lon'])\n",
    "        hum.append(response['main']['humidity'])\n",
    "        wind.append(response['wind']['speed'])\n",
    "        temp.append(response['main']['temp'])\n",
    "        max_temp.append(response['main']['temp_max'])\n",
    "        min_temp.append(response['main']['temp_min'])\n",
    "        country.append(response['sys']['country'])\n",
    "        date.append(response['dt'])\n",
    "        cty.append(city)\n",
    "        time.sleep(1)\n",
    "        if counter >= 50:\n",
    "            set += 1\n",
    "            counter = 0\n",
    "    except(KeyError, IndexError):\n",
    "        print(\"City not found.. Skipping\")\n",
    "        pass\n",
    "    "
   ]
  },
  {
   "cell_type": "markdown",
   "metadata": {},
   "source": [
    "### Convert Raw Data to DataFrame\n",
    "* Export the city data into a .csv.\n",
    "* Display the DataFrame"
   ]
  },
  {
   "cell_type": "code",
   "execution_count": 59,
   "metadata": {},
   "outputs": [
    {
     "data": {
      "text/html": [
       "<div>\n",
       "<style scoped>\n",
       "    .dataframe tbody tr th:only-of-type {\n",
       "        vertical-align: middle;\n",
       "    }\n",
       "\n",
       "    .dataframe tbody tr th {\n",
       "        vertical-align: top;\n",
       "    }\n",
       "\n",
       "    .dataframe thead th {\n",
       "        text-align: right;\n",
       "    }\n",
       "</style>\n",
       "<table border=\"1\" class=\"dataframe\">\n",
       "  <thead>\n",
       "    <tr style=\"text-align: right;\">\n",
       "      <th></th>\n",
       "      <th>City</th>\n",
       "      <th>Lat</th>\n",
       "      <th>Lng</th>\n",
       "      <th>Max Temp</th>\n",
       "      <th>Min Temp</th>\n",
       "      <th>Humidity</th>\n",
       "      <th>Cloudiness</th>\n",
       "      <th>Wind Speed</th>\n",
       "      <th>Country</th>\n",
       "      <th>Date</th>\n",
       "    </tr>\n",
       "  </thead>\n",
       "  <tbody>\n",
       "    <tr>\n",
       "      <th>0</th>\n",
       "      <td>lavrentiya</td>\n",
       "      <td>65.58</td>\n",
       "      <td>-171.00</td>\n",
       "      <td>-6.45</td>\n",
       "      <td>-6.45</td>\n",
       "      <td>90</td>\n",
       "      <td>75</td>\n",
       "      <td>14.29</td>\n",
       "      <td>RU</td>\n",
       "      <td>1609705155</td>\n",
       "    </tr>\n",
       "    <tr>\n",
       "      <th>1</th>\n",
       "      <td>georgetown</td>\n",
       "      <td>5.41</td>\n",
       "      <td>100.34</td>\n",
       "      <td>77.00</td>\n",
       "      <td>77.00</td>\n",
       "      <td>94</td>\n",
       "      <td>40</td>\n",
       "      <td>2.24</td>\n",
       "      <td>MY</td>\n",
       "      <td>1609705072</td>\n",
       "    </tr>\n",
       "    <tr>\n",
       "      <th>2</th>\n",
       "      <td>ushuaia</td>\n",
       "      <td>-54.80</td>\n",
       "      <td>-68.30</td>\n",
       "      <td>51.80</td>\n",
       "      <td>51.80</td>\n",
       "      <td>50</td>\n",
       "      <td>75</td>\n",
       "      <td>12.75</td>\n",
       "      <td>AR</td>\n",
       "      <td>1609705159</td>\n",
       "    </tr>\n",
       "    <tr>\n",
       "      <th>3</th>\n",
       "      <td>sena madureira</td>\n",
       "      <td>-9.07</td>\n",
       "      <td>-68.66</td>\n",
       "      <td>92.16</td>\n",
       "      <td>92.16</td>\n",
       "      <td>48</td>\n",
       "      <td>62</td>\n",
       "      <td>2.57</td>\n",
       "      <td>BR</td>\n",
       "      <td>1609705144</td>\n",
       "    </tr>\n",
       "    <tr>\n",
       "      <th>4</th>\n",
       "      <td>hithadhoo</td>\n",
       "      <td>-0.60</td>\n",
       "      <td>73.08</td>\n",
       "      <td>82.62</td>\n",
       "      <td>82.62</td>\n",
       "      <td>77</td>\n",
       "      <td>100</td>\n",
       "      <td>9.15</td>\n",
       "      <td>MV</td>\n",
       "      <td>1609705107</td>\n",
       "    </tr>\n",
       "  </tbody>\n",
       "</table>\n",
       "</div>"
      ],
      "text/plain": [
       "             City    Lat     Lng  Max Temp  Min Temp  Humidity  Cloudiness  \\\n",
       "0      lavrentiya  65.58 -171.00     -6.45     -6.45        90          75   \n",
       "1      georgetown   5.41  100.34     77.00     77.00        94          40   \n",
       "2         ushuaia -54.80  -68.30     51.80     51.80        50          75   \n",
       "3  sena madureira  -9.07  -68.66     92.16     92.16        48          62   \n",
       "4       hithadhoo  -0.60   73.08     82.62     82.62        77         100   \n",
       "\n",
       "   Wind Speed Country        Date  \n",
       "0       14.29      RU  1609705155  \n",
       "1        2.24      MY  1609705072  \n",
       "2       12.75      AR  1609705159  \n",
       "3        2.57      BR  1609705144  \n",
       "4        9.15      MV  1609705107  "
      ]
     },
     "execution_count": 59,
     "metadata": {},
     "output_type": "execute_result"
    }
   ],
   "source": [
    "cities_dict = {\"City\":cty, \"Lat\": lat, \"Lng\": lng, \"Max Temp\": max_temp, \"Min Temp\": min_temp, \"Humidity\": hum, \"Cloudiness\": cloud, \"Wind Speed\": wind, \"Country\": country, \"Date\": date}\n",
    "city_data = pd.DataFrame(cities_dict)\n",
    "city_data.head()"
   ]
  },
  {
   "cell_type": "code",
   "execution_count": 60,
   "metadata": {},
   "outputs": [
    {
     "data": {
      "text/html": [
       "<div>\n",
       "<style scoped>\n",
       "    .dataframe tbody tr th:only-of-type {\n",
       "        vertical-align: middle;\n",
       "    }\n",
       "\n",
       "    .dataframe tbody tr th {\n",
       "        vertical-align: top;\n",
       "    }\n",
       "\n",
       "    .dataframe thead th {\n",
       "        text-align: right;\n",
       "    }\n",
       "</style>\n",
       "<table border=\"1\" class=\"dataframe\">\n",
       "  <thead>\n",
       "    <tr style=\"text-align: right;\">\n",
       "      <th></th>\n",
       "      <th>Lat</th>\n",
       "      <th>Lng</th>\n",
       "      <th>Max Temp</th>\n",
       "      <th>Min Temp</th>\n",
       "      <th>Humidity</th>\n",
       "      <th>Cloudiness</th>\n",
       "      <th>Wind Speed</th>\n",
       "      <th>Date</th>\n",
       "    </tr>\n",
       "  </thead>\n",
       "  <tbody>\n",
       "    <tr>\n",
       "      <th>count</th>\n",
       "      <td>100.00000</td>\n",
       "      <td>100.000000</td>\n",
       "      <td>100.000000</td>\n",
       "      <td>100.000000</td>\n",
       "      <td>100.000000</td>\n",
       "      <td>100.000000</td>\n",
       "      <td>100.000000</td>\n",
       "      <td>1.000000e+02</td>\n",
       "    </tr>\n",
       "    <tr>\n",
       "      <th>mean</th>\n",
       "      <td>13.08920</td>\n",
       "      <td>11.706200</td>\n",
       "      <td>50.400800</td>\n",
       "      <td>49.540500</td>\n",
       "      <td>76.140000</td>\n",
       "      <td>61.360000</td>\n",
       "      <td>8.300300</td>\n",
       "      <td>1.609705e+09</td>\n",
       "    </tr>\n",
       "    <tr>\n",
       "      <th>std</th>\n",
       "      <td>39.46476</td>\n",
       "      <td>102.051903</td>\n",
       "      <td>32.862976</td>\n",
       "      <td>32.615268</td>\n",
       "      <td>18.064989</td>\n",
       "      <td>37.639846</td>\n",
       "      <td>6.914697</td>\n",
       "      <td>7.781953e+01</td>\n",
       "    </tr>\n",
       "    <tr>\n",
       "      <th>min</th>\n",
       "      <td>-54.80000</td>\n",
       "      <td>-175.200000</td>\n",
       "      <td>-41.870000</td>\n",
       "      <td>-41.870000</td>\n",
       "      <td>19.000000</td>\n",
       "      <td>0.000000</td>\n",
       "      <td>0.310000</td>\n",
       "      <td>1.609705e+09</td>\n",
       "    </tr>\n",
       "    <tr>\n",
       "      <th>25%</th>\n",
       "      <td>-22.01000</td>\n",
       "      <td>-70.800000</td>\n",
       "      <td>32.395000</td>\n",
       "      <td>31.922500</td>\n",
       "      <td>69.000000</td>\n",
       "      <td>20.000000</td>\n",
       "      <td>4.297500</td>\n",
       "      <td>1.609705e+09</td>\n",
       "    </tr>\n",
       "    <tr>\n",
       "      <th>50%</th>\n",
       "      <td>12.60000</td>\n",
       "      <td>26.230000</td>\n",
       "      <td>60.405000</td>\n",
       "      <td>57.595000</td>\n",
       "      <td>81.500000</td>\n",
       "      <td>75.000000</td>\n",
       "      <td>5.820000</td>\n",
       "      <td>1.609705e+09</td>\n",
       "    </tr>\n",
       "    <tr>\n",
       "      <th>75%</th>\n",
       "      <td>52.89250</td>\n",
       "      <td>108.872500</td>\n",
       "      <td>77.000000</td>\n",
       "      <td>76.242500</td>\n",
       "      <td>89.000000</td>\n",
       "      <td>97.000000</td>\n",
       "      <td>11.165000</td>\n",
       "      <td>1.609705e+09</td>\n",
       "    </tr>\n",
       "    <tr>\n",
       "      <th>max</th>\n",
       "      <td>77.48000</td>\n",
       "      <td>169.270000</td>\n",
       "      <td>95.000000</td>\n",
       "      <td>95.000000</td>\n",
       "      <td>100.000000</td>\n",
       "      <td>100.000000</td>\n",
       "      <td>37.130000</td>\n",
       "      <td>1.609705e+09</td>\n",
       "    </tr>\n",
       "  </tbody>\n",
       "</table>\n",
       "</div>"
      ],
      "text/plain": [
       "             Lat         Lng    Max Temp    Min Temp    Humidity  Cloudiness  \\\n",
       "count  100.00000  100.000000  100.000000  100.000000  100.000000  100.000000   \n",
       "mean    13.08920   11.706200   50.400800   49.540500   76.140000   61.360000   \n",
       "std     39.46476  102.051903   32.862976   32.615268   18.064989   37.639846   \n",
       "min    -54.80000 -175.200000  -41.870000  -41.870000   19.000000    0.000000   \n",
       "25%    -22.01000  -70.800000   32.395000   31.922500   69.000000   20.000000   \n",
       "50%     12.60000   26.230000   60.405000   57.595000   81.500000   75.000000   \n",
       "75%     52.89250  108.872500   77.000000   76.242500   89.000000   97.000000   \n",
       "max     77.48000  169.270000   95.000000   95.000000  100.000000  100.000000   \n",
       "\n",
       "       Wind Speed          Date  \n",
       "count  100.000000  1.000000e+02  \n",
       "mean     8.300300  1.609705e+09  \n",
       "std      6.914697  7.781953e+01  \n",
       "min      0.310000  1.609705e+09  \n",
       "25%      4.297500  1.609705e+09  \n",
       "50%      5.820000  1.609705e+09  \n",
       "75%     11.165000  1.609705e+09  \n",
       "max     37.130000  1.609705e+09  "
      ]
     },
     "execution_count": 60,
     "metadata": {},
     "output_type": "execute_result"
    }
   ],
   "source": [
    "city_data.describe()"
   ]
  },
  {
   "cell_type": "markdown",
   "metadata": {},
   "source": [
    "## Inspect the data and remove the cities where the humidity > 100%.\n",
    "----\n",
    "Skip this step if there are no cities that have humidity > 100%. "
   ]
  },
  {
   "cell_type": "code",
   "execution_count": 61,
   "metadata": {},
   "outputs": [
    {
     "data": {
      "text/html": [
       "<div>\n",
       "<style scoped>\n",
       "    .dataframe tbody tr th:only-of-type {\n",
       "        vertical-align: middle;\n",
       "    }\n",
       "\n",
       "    .dataframe tbody tr th {\n",
       "        vertical-align: top;\n",
       "    }\n",
       "\n",
       "    .dataframe thead th {\n",
       "        text-align: right;\n",
       "    }\n",
       "</style>\n",
       "<table border=\"1\" class=\"dataframe\">\n",
       "  <thead>\n",
       "    <tr style=\"text-align: right;\">\n",
       "      <th></th>\n",
       "      <th>Lat</th>\n",
       "      <th>Lng</th>\n",
       "      <th>Max Temp</th>\n",
       "      <th>Min Temp</th>\n",
       "      <th>Humidity</th>\n",
       "      <th>Cloudiness</th>\n",
       "      <th>Wind Speed</th>\n",
       "      <th>Date</th>\n",
       "    </tr>\n",
       "  </thead>\n",
       "  <tbody>\n",
       "    <tr>\n",
       "      <th>count</th>\n",
       "      <td>100.00000</td>\n",
       "      <td>100.000000</td>\n",
       "      <td>100.000000</td>\n",
       "      <td>100.000000</td>\n",
       "      <td>100.000000</td>\n",
       "      <td>100.000000</td>\n",
       "      <td>100.000000</td>\n",
       "      <td>1.000000e+02</td>\n",
       "    </tr>\n",
       "    <tr>\n",
       "      <th>mean</th>\n",
       "      <td>13.08920</td>\n",
       "      <td>11.706200</td>\n",
       "      <td>50.400800</td>\n",
       "      <td>49.540500</td>\n",
       "      <td>76.140000</td>\n",
       "      <td>61.360000</td>\n",
       "      <td>8.300300</td>\n",
       "      <td>1.609705e+09</td>\n",
       "    </tr>\n",
       "    <tr>\n",
       "      <th>std</th>\n",
       "      <td>39.46476</td>\n",
       "      <td>102.051903</td>\n",
       "      <td>32.862976</td>\n",
       "      <td>32.615268</td>\n",
       "      <td>18.064989</td>\n",
       "      <td>37.639846</td>\n",
       "      <td>6.914697</td>\n",
       "      <td>7.781953e+01</td>\n",
       "    </tr>\n",
       "    <tr>\n",
       "      <th>min</th>\n",
       "      <td>-54.80000</td>\n",
       "      <td>-175.200000</td>\n",
       "      <td>-41.870000</td>\n",
       "      <td>-41.870000</td>\n",
       "      <td>19.000000</td>\n",
       "      <td>0.000000</td>\n",
       "      <td>0.310000</td>\n",
       "      <td>1.609705e+09</td>\n",
       "    </tr>\n",
       "    <tr>\n",
       "      <th>25%</th>\n",
       "      <td>-22.01000</td>\n",
       "      <td>-70.800000</td>\n",
       "      <td>32.395000</td>\n",
       "      <td>31.922500</td>\n",
       "      <td>69.000000</td>\n",
       "      <td>20.000000</td>\n",
       "      <td>4.297500</td>\n",
       "      <td>1.609705e+09</td>\n",
       "    </tr>\n",
       "    <tr>\n",
       "      <th>50%</th>\n",
       "      <td>12.60000</td>\n",
       "      <td>26.230000</td>\n",
       "      <td>60.405000</td>\n",
       "      <td>57.595000</td>\n",
       "      <td>81.500000</td>\n",
       "      <td>75.000000</td>\n",
       "      <td>5.820000</td>\n",
       "      <td>1.609705e+09</td>\n",
       "    </tr>\n",
       "    <tr>\n",
       "      <th>75%</th>\n",
       "      <td>52.89250</td>\n",
       "      <td>108.872500</td>\n",
       "      <td>77.000000</td>\n",
       "      <td>76.242500</td>\n",
       "      <td>89.000000</td>\n",
       "      <td>97.000000</td>\n",
       "      <td>11.165000</td>\n",
       "      <td>1.609705e+09</td>\n",
       "    </tr>\n",
       "    <tr>\n",
       "      <th>max</th>\n",
       "      <td>77.48000</td>\n",
       "      <td>169.270000</td>\n",
       "      <td>95.000000</td>\n",
       "      <td>95.000000</td>\n",
       "      <td>100.000000</td>\n",
       "      <td>100.000000</td>\n",
       "      <td>37.130000</td>\n",
       "      <td>1.609705e+09</td>\n",
       "    </tr>\n",
       "  </tbody>\n",
       "</table>\n",
       "</div>"
      ],
      "text/plain": [
       "             Lat         Lng    Max Temp    Min Temp    Humidity  Cloudiness  \\\n",
       "count  100.00000  100.000000  100.000000  100.000000  100.000000  100.000000   \n",
       "mean    13.08920   11.706200   50.400800   49.540500   76.140000   61.360000   \n",
       "std     39.46476  102.051903   32.862976   32.615268   18.064989   37.639846   \n",
       "min    -54.80000 -175.200000  -41.870000  -41.870000   19.000000    0.000000   \n",
       "25%    -22.01000  -70.800000   32.395000   31.922500   69.000000   20.000000   \n",
       "50%     12.60000   26.230000   60.405000   57.595000   81.500000   75.000000   \n",
       "75%     52.89250  108.872500   77.000000   76.242500   89.000000   97.000000   \n",
       "max     77.48000  169.270000   95.000000   95.000000  100.000000  100.000000   \n",
       "\n",
       "       Wind Speed          Date  \n",
       "count  100.000000  1.000000e+02  \n",
       "mean     8.300300  1.609705e+09  \n",
       "std      6.914697  7.781953e+01  \n",
       "min      0.310000  1.609705e+09  \n",
       "25%      4.297500  1.609705e+09  \n",
       "50%      5.820000  1.609705e+09  \n",
       "75%     11.165000  1.609705e+09  \n",
       "max     37.130000  1.609705e+09  "
      ]
     },
     "execution_count": 61,
     "metadata": {},
     "output_type": "execute_result"
    }
   ],
   "source": [
    "clean_city_data = city_data.loc[city_data[\"Humidity\"] <= 100]\n",
    "#clean_city_data.head()\n",
    "clean_city_data.describe()"
   ]
  },
  {
   "cell_type": "code",
   "execution_count": 76,
   "metadata": {},
   "outputs": [
    {
     "data": {
      "text/plain": [
       "[]"
      ]
     },
     "execution_count": 76,
     "metadata": {},
     "output_type": "execute_result"
    }
   ],
   "source": [
    "#  Get the indices of cities that have humidity over 100%.\n",
    "humidity_list = city_data.index[city_data['Humidity'] > 100].tolist()\n",
    "humidity_list"
   ]
  },
  {
   "cell_type": "code",
   "execution_count": 77,
   "metadata": {},
   "outputs": [
    {
     "data": {
      "text/html": [
       "<div>\n",
       "<style scoped>\n",
       "    .dataframe tbody tr th:only-of-type {\n",
       "        vertical-align: middle;\n",
       "    }\n",
       "\n",
       "    .dataframe tbody tr th {\n",
       "        vertical-align: top;\n",
       "    }\n",
       "\n",
       "    .dataframe thead th {\n",
       "        text-align: right;\n",
       "    }\n",
       "</style>\n",
       "<table border=\"1\" class=\"dataframe\">\n",
       "  <thead>\n",
       "    <tr style=\"text-align: right;\">\n",
       "      <th></th>\n",
       "      <th>City</th>\n",
       "      <th>Lat</th>\n",
       "      <th>Lng</th>\n",
       "      <th>Max Temp</th>\n",
       "      <th>Min Temp</th>\n",
       "      <th>Humidity</th>\n",
       "      <th>Cloudiness</th>\n",
       "      <th>Wind Speed</th>\n",
       "      <th>Country</th>\n",
       "      <th>Date</th>\n",
       "    </tr>\n",
       "  </thead>\n",
       "  <tbody>\n",
       "    <tr>\n",
       "      <th>0</th>\n",
       "      <td>lavrentiya</td>\n",
       "      <td>65.58</td>\n",
       "      <td>-171.00</td>\n",
       "      <td>-6.45</td>\n",
       "      <td>-6.45</td>\n",
       "      <td>90</td>\n",
       "      <td>75</td>\n",
       "      <td>14.29</td>\n",
       "      <td>RU</td>\n",
       "      <td>1609705155</td>\n",
       "    </tr>\n",
       "    <tr>\n",
       "      <th>1</th>\n",
       "      <td>georgetown</td>\n",
       "      <td>5.41</td>\n",
       "      <td>100.34</td>\n",
       "      <td>77.00</td>\n",
       "      <td>77.00</td>\n",
       "      <td>94</td>\n",
       "      <td>40</td>\n",
       "      <td>2.24</td>\n",
       "      <td>MY</td>\n",
       "      <td>1609705072</td>\n",
       "    </tr>\n",
       "    <tr>\n",
       "      <th>2</th>\n",
       "      <td>ushuaia</td>\n",
       "      <td>-54.80</td>\n",
       "      <td>-68.30</td>\n",
       "      <td>51.80</td>\n",
       "      <td>51.80</td>\n",
       "      <td>50</td>\n",
       "      <td>75</td>\n",
       "      <td>12.75</td>\n",
       "      <td>AR</td>\n",
       "      <td>1609705159</td>\n",
       "    </tr>\n",
       "    <tr>\n",
       "      <th>3</th>\n",
       "      <td>sena madureira</td>\n",
       "      <td>-9.07</td>\n",
       "      <td>-68.66</td>\n",
       "      <td>92.16</td>\n",
       "      <td>92.16</td>\n",
       "      <td>48</td>\n",
       "      <td>62</td>\n",
       "      <td>2.57</td>\n",
       "      <td>BR</td>\n",
       "      <td>1609705144</td>\n",
       "    </tr>\n",
       "    <tr>\n",
       "      <th>4</th>\n",
       "      <td>hithadhoo</td>\n",
       "      <td>-0.60</td>\n",
       "      <td>73.08</td>\n",
       "      <td>82.62</td>\n",
       "      <td>82.62</td>\n",
       "      <td>77</td>\n",
       "      <td>100</td>\n",
       "      <td>9.15</td>\n",
       "      <td>MV</td>\n",
       "      <td>1609705107</td>\n",
       "    </tr>\n",
       "  </tbody>\n",
       "</table>\n",
       "</div>"
      ],
      "text/plain": [
       "             City    Lat     Lng  Max Temp  Min Temp  Humidity  Cloudiness  \\\n",
       "0      lavrentiya  65.58 -171.00     -6.45     -6.45        90          75   \n",
       "1      georgetown   5.41  100.34     77.00     77.00        94          40   \n",
       "2         ushuaia -54.80  -68.30     51.80     51.80        50          75   \n",
       "3  sena madureira  -9.07  -68.66     92.16     92.16        48          62   \n",
       "4       hithadhoo  -0.60   73.08     82.62     82.62        77         100   \n",
       "\n",
       "   Wind Speed Country        Date  \n",
       "0       14.29      RU  1609705155  \n",
       "1        2.24      MY  1609705072  \n",
       "2       12.75      AR  1609705159  \n",
       "3        2.57      BR  1609705144  \n",
       "4        9.15      MV  1609705107  "
      ]
     },
     "execution_count": 77,
     "metadata": {},
     "output_type": "execute_result"
    }
   ],
   "source": [
    "# Make a new DataFrame equal to the city data to drop all humidity outliers by index.\n",
    "# Passing \"inplace=False\" will make a copy of the city_data DataFrame, which we call \"clean_city_data\".\n",
    "cleancity_data = city_data.drop(humidity_list)\n",
    "cleancity_data.head()"
   ]
  },
  {
   "cell_type": "code",
   "execution_count": null,
   "metadata": {},
   "outputs": [],
   "source": [
    "city_data.to_csv(\"Output\\City_Data_Output.csv\")\n"
   ]
  },
  {
   "cell_type": "markdown",
   "metadata": {},
   "source": [
    "## Plotting the Data\n",
    "* Use proper labeling of the plots using plot titles (including date of analysis) and axes labels.\n",
    "* Save the plotted figures as .pngs."
   ]
  },
  {
   "cell_type": "markdown",
   "metadata": {},
   "source": [
    "## Latitude vs. Temperature Plot"
   ]
  },
  {
   "cell_type": "code",
   "execution_count": 62,
   "metadata": {
    "scrolled": true
   },
   "outputs": [
    {
     "data": {
      "text/plain": [
       "Text(0, 0.5, 'Max Temperature (F)')"
      ]
     },
     "execution_count": 62,
     "metadata": {},
     "output_type": "execute_result"
    },
    {
     "data": {
      "image/png": "[encoded data removed]",
      "text/plain": [
       "<Figure size 432x288 with 1 Axes>"
      ]
     },
     "metadata": {
      "needs_background": "light"
     },
     "output_type": "display_data"
    }
   ],
   "source": [
    "x_values = clean_city_data[\"Lat\"]\n",
    "y_values = clean_city_data[\"Max Temp\"]\n",
    "plt.scatter(x_values, y_values, marker=\"o\", facecolor='darkblue', edgecolors='black', alpha = 0.5)\n",
    "plt.xlim(min(x_values)-5,max(x_values)+5)\n",
    "plt.ylim(min(y_values)-5,max(y_values)+5)\n",
    "plt.title(\"City Latitude vs Max Temperature (12/30/20)\")\n",
    "plt.xlabel(\"Latitude\")\n",
    "plt.ylabel(\"Max Temperature (F)\")\n",
    "plt.savefig(\"Output\\Lat_MaxTemp_Scatter.png\")\n",
    "\n",
    "#The chart coded is analyzing the relationship between a city's latitude and their max temperature, \n",
    "#reflecting if a max temp increases or decreases as latitude increases."
   ]
  },
  {
   "cell_type": "markdown",
   "metadata": {},
   "source": [
    "## Latitude vs. Humidity Plot"
   ]
  },
  {
   "cell_type": "code",
   "execution_count": 63,
   "metadata": {},
   "outputs": [
    {
     "data": {
      "text/plain": [
       "Text(0, 0.5, 'Humidity (%)')"
      ]
     },
     "execution_count": 63,
     "metadata": {},
     "output_type": "execute_result"
    },
    {
     "data": {
      "image/png": "[encoded data removed]",
      "text/plain": [
       "<Figure size 432x288 with 1 Axes>"
      ]
     },
     "metadata": {
      "needs_background": "light"
     },
     "output_type": "display_data"
    }
   ],
   "source": [
    "y_values = clean_city_data[\"Humidity\"]\n",
    "plt.scatter(x_values, y_values, marker=\"o\", facecolor='darkblue', edgecolors='black', alpha = 0.5)\n",
    "plt.xlim(min(x_values)-5,max(x_values)+5)\n",
    "plt.ylim(min(y_values)-5,max(y_values)+5)\n",
    "plt.title(\"City Latitude vs Humidity (12/30/20)\")\n",
    "plt.xlabel(\"Latitude\")\n",
    "plt.ylabel(\"Humidity (%)\")\n",
    "plt.savefig(\"Output\\Lat_Humidity_Scatter.png\")\n",
    "\n",
    "#The chart coded is analyzing the relationship between a city's latitude and their humidity,\n",
    "#showing how a city's latitude impacts it's max humidity."
   ]
  },
  {
   "cell_type": "markdown",
   "metadata": {},
   "source": [
    "## Latitude vs. Cloudiness Plot"
   ]
  },
  {
   "cell_type": "code",
   "execution_count": 64,
   "metadata": {},
   "outputs": [
    {
     "data": {
      "text/plain": [
       "Text(0, 0.5, 'Cloudiness (%)')"
      ]
     },
     "execution_count": 64,
     "metadata": {},
     "output_type": "execute_result"
    },
    {
     "data": {
      "image/png": "[encoded data removed]",
      "text/plain": [
       "<Figure size 432x288 with 1 Axes>"
      ]
     },
     "metadata": {
      "needs_background": "light"
     },
     "output_type": "display_data"
    }
   ],
   "source": [
    "y_values = clean_city_data[\"Cloudiness\"]\n",
    "plt.scatter(x_values, y_values, marker=\"o\", facecolor='darkblue', edgecolors='black', alpha = 0.5)\n",
    "plt.xlim(min(x_values)-5,max(x_values)+5)\n",
    "plt.ylim(min(y_values)-5,max(y_values)+5)\n",
    "plt.title(\"City Latitude vs Cloudiness (12/30/20)\")\n",
    "plt.xlabel(\"Latitude\")\n",
    "plt.ylabel(\"Cloudiness (%)\")\n",
    "plt.savefig(\"Output\\Lat_Cloudiness_Scatter.png\")\n",
    "\n",
    "#The chart coded is analyzing the relationship between a city's latitude and the cloudiness,\n",
    "#to demonstrate how cloudiness behaves as a latitude changes."
   ]
  },
  {
   "cell_type": "markdown",
   "metadata": {},
   "source": [
    "## Latitude vs. Wind Speed Plot"
   ]
  },
  {
   "cell_type": "code",
   "execution_count": 65,
   "metadata": {},
   "outputs": [
    {
     "data": {
      "text/plain": [
       "Text(0, 0.5, 'Wind Speed (mph)')"
      ]
     },
     "execution_count": 65,
     "metadata": {},
     "output_type": "execute_result"
    },
    {
     "data": {
      "image/png": "[encoded data removed]",
      "text/plain": [
       "<Figure size 432x288 with 1 Axes>"
      ]
     },
     "metadata": {
      "needs_background": "light"
     },
     "output_type": "display_data"
    }
   ],
   "source": [
    "y_values = clean_city_data[\"Wind Speed\"]\n",
    "plt.scatter(x_values, y_values, marker=\"o\", facecolor='darkblue', edgecolors='black', alpha = 0.5)\n",
    "plt.xlim(min(x_values)-5,max(x_values)+5)\n",
    "plt.ylim(min(y_values)-5,max(y_values)+5)\n",
    "plt.title(\"City Latitude vs Wind Speed (12/30/20)\")\n",
    "plt.xlabel(\"Latitude\")\n",
    "plt.ylabel(\"Wind Speed (mph)\")\n",
    "plt.savefig(\"Output\\Lat_WindSpeed_Scatter.png\")\n",
    "\n",
    "#The chart coded is analyzing the relationship between a city's latitude and wind speed,\n",
    "#reflecting how wind speed varies as latitude increases."
   ]
  },
  {
   "cell_type": "markdown",
   "metadata": {},
   "source": [
    "## Linear Regression"
   ]
  },
  {
   "cell_type": "code",
   "execution_count": 66,
   "metadata": {},
   "outputs": [],
   "source": [
    "north_hemi = clean_city_data.loc[clean_city_data[\"Lat\"]>=0]\n",
    "south_hemi = clean_city_data.loc[clean_city_data[\"Lat\"]<0]\n"
   ]
  },
  {
   "cell_type": "markdown",
   "metadata": {},
   "source": [
    "####  Northern Hemisphere - Max Temp vs. Latitude Linear Regression"
   ]
  },
  {
   "cell_type": "code",
   "execution_count": 67,
   "metadata": {},
   "outputs": [
    {
     "name": "stdout",
     "output_type": "stream",
     "text": [
      "The r-value is -0.8813820427527239\n"
     ]
    },
    {
     "data": {
      "image/png": "[encoded data removed]",
      "text/plain": [
       "<Figure size 432x288 with 1 Axes>"
      ]
     },
     "metadata": {
      "needs_background": "light"
     },
     "output_type": "display_data"
    }
   ],
   "source": [
    "x_values = north_hemi[\"Lat\"]\n",
    "y_values = north_hemi[\"Max Temp\"]\n",
    "plt.scatter(x_values,y_values)\n",
    "plt.xlabel(\"Latitude\")\n",
    "plt.ylabel(\"Max Temperature\")\n",
    "(slope,intercept, rvalue, pvalue, stderr) = linregress(x_values, y_values)\n",
    "regress_values = x_values * slope + intercept\n",
    "line_eq = \"y = \" + str(round(slope,2)) + \"x + \" + str(round(intercept,2))\n",
    "plt.plot(x_values, regress_values,\"r-\")\n",
    "plt.annotate(line_eq,(8,min(north_hemi[\"Max Temp\"])),fontsize=14,color=\"red\")\n",
    "plt.show\n",
    "plt.savefig(\"Output\\Lat_MaxTemp_NorthHemi_Regression.png\")\n",
    "print(f\"The r-value is {rvalue}\")"
   ]
  },
  {
   "cell_type": "markdown",
   "metadata": {},
   "source": [
    "####  Southern Hemisphere - Max Temp vs. Latitude Linear Regression"
   ]
  },
  {
   "cell_type": "code",
   "execution_count": 68,
   "metadata": {},
   "outputs": [
    {
     "name": "stdout",
     "output_type": "stream",
     "text": [
      "The r-value is 0.684415183122755\n"
     ]
    },
    {
     "data": {
      "image/png": "[encoded data removed]",
      "text/plain": [
       "<Figure size 432x288 with 1 Axes>"
      ]
     },
     "metadata": {
      "needs_background": "light"
     },
     "output_type": "display_data"
    }
   ],
   "source": [
    "x_values = south_hemi[\"Lat\"]\n",
    "y_values = south_hemi[\"Max Temp\"]\n",
    "plt.scatter(x_values,y_values)\n",
    "plt.xlabel(\"Latitude\")\n",
    "plt.ylabel(\"Max Temperature\")\n",
    "(slope,intercept, rvalue, pvalue, stderr) = linregress(x_values, y_values)\n",
    "regress_values = x_values * slope + intercept\n",
    "line_eq = \"y = \" + str(round(slope,2)) + \"x + \" + str(round(intercept,2))\n",
    "plt.plot(x_values, regress_values,\"r-\")\n",
    "plt.annotate(line_eq,(8,min(south_hemi[\"Max Temp\"])),fontsize=14,color=\"red\")\n",
    "plt.show\n",
    "plt.savefig(\"Output\\Lat_MaxTemp_SouthHemi_Regression.png\")\n",
    "print(f\"The r-value is {rvalue}\")\n",
    "\n",
    "#These two charts reflect the relationship a city's temperature has with it's latitude.\n",
    "#We can conclude that as a city is closer to the equator (latitude closer to 0) it's max temperature is higher."
   ]
  },
  {
   "cell_type": "markdown",
   "metadata": {},
   "source": [
    "####  Northern Hemisphere - Humidity (%) vs. Latitude Linear Regression"
   ]
  },
  {
   "cell_type": "code",
   "execution_count": 70,
   "metadata": {},
   "outputs": [
    {
     "name": "stdout",
     "output_type": "stream",
     "text": [
      "The r-value is 0.25286668784768634\n"
     ]
    },
    {
     "data": {
      "image/png": "[encoded data removed]",
      "text/plain": [
       "<Figure size 432x288 with 1 Axes>"
      ]
     },
     "metadata": {
      "needs_background": "light"
     },
     "output_type": "display_data"
    }
   ],
   "source": [
    "x_values = north_hemi[\"Lat\"]\n",
    "y_values = north_hemi[\"Humidity\"]\n",
    "plt.scatter(x_values,y_values)\n",
    "plt.xlabel(\"Latitude\")\n",
    "plt.ylabel(\"Humidity\")\n",
    "(slope,intercept, rvalue, pvalue, stderr) = linregress(x_values, y_values)\n",
    "regress_values = x_values * slope + intercept\n",
    "line_eq = \"y = \" + str(round(slope,2)) + \"x + \" + str(round(intercept,2))\n",
    "plt.plot(x_values, regress_values,\"r-\")\n",
    "plt.annotate(line_eq,(8,min(north_hemi[\"Humidity\"])),fontsize=14,color=\"red\")\n",
    "plt.show\n",
    "plt.savefig(\"Output\\Lat_Humidity_NorthHemi_Regression.png\")\n",
    "print(f\"The r-value is {rvalue}\")"
   ]
  },
  {
   "cell_type": "markdown",
   "metadata": {},
   "source": [
    "####  Southern Hemisphere - Humidity (%) vs. Latitude Linear Regression"
   ]
  },
  {
   "cell_type": "code",
   "execution_count": 69,
   "metadata": {},
   "outputs": [
    {
     "name": "stdout",
     "output_type": "stream",
     "text": [
      "The r-value is 0.20519444320621433\n"
     ]
    },
    {
     "data": {
      "image/png": "[encoded data removed]",
      "text/plain": [
       "<Figure size 432x288 with 1 Axes>"
      ]
     },
     "metadata": {
      "needs_background": "light"
     },
     "output_type": "display_data"
    }
   ],
   "source": [
    "x_values = south_hemi[\"Lat\"]\n",
    "y_values = south_hemi[\"Humidity\"]\n",
    "plt.scatter(x_values,y_values)\n",
    "plt.xlabel(\"Latitude\")\n",
    "plt.ylabel(\"Humidity\")\n",
    "(slope,intercept, rvalue, pvalue, stderr) = linregress(x_values, y_values)\n",
    "regress_values = x_values * slope + intercept\n",
    "line_eq = \"y = \" + str(round(slope,2)) + \"x + \" + str(round(intercept,2))\n",
    "plt.plot(x_values, regress_values,\"r-\")\n",
    "plt.annotate(line_eq,(8,min(south_hemi[\"Humidity\"])),fontsize=14,color=\"red\")\n",
    "plt.show\n",
    "plt.savefig(\"Output\\Lat_Humidity_SouthHemi_Regression.png\")\n",
    "print(f\"The r-value is {rvalue}\")\n",
    "#From the charts and linear regression analysis we can conclude that there isn't a strong relationship\n",
    "#between humidity and a city's latitude. Initial thoughts would be that as you get nearer to the equator\n",
    "#humidity would be higher, however data differs from that thought."
   ]
  },
  {
   "cell_type": "markdown",
   "metadata": {},
   "source": [
    "####  Northern Hemisphere - Cloudiness (%) vs. Latitude Linear Regression"
   ]
  },
  {
   "cell_type": "code",
   "execution_count": 71,
   "metadata": {},
   "outputs": [
    {
     "name": "stdout",
     "output_type": "stream",
     "text": [
      "The r-value is 0.3711700678059218\n"
     ]
    },
    {
     "data": {
      "image/png": "[encoded data removed]",
      "text/plain": [
       "<Figure size 432x288 with 1 Axes>"
      ]
     },
     "metadata": {
      "needs_background": "light"
     },
     "output_type": "display_data"
    }
   ],
   "source": [
    "x_values = north_hemi[\"Lat\"]\n",
    "y_values = north_hemi[\"Cloudiness\"]\n",
    "plt.scatter(x_values,y_values)\n",
    "plt.xlabel(\"Latitude\")\n",
    "plt.ylabel(\"Cloudiness\")\n",
    "(slope,intercept, rvalue, pvalue, stderr) = linregress(x_values, y_values)\n",
    "regress_values = x_values * slope + intercept\n",
    "line_eq = \"y = \" + str(round(slope,2)) + \"x + \" + str(round(intercept,2))\n",
    "plt.plot(x_values, regress_values,\"r-\")\n",
    "plt.annotate(line_eq,(8,min(north_hemi[\"Cloudiness\"])),fontsize=14,color=\"red\")\n",
    "plt.show\n",
    "plt.savefig(\"Output\\Lat_Cloudiness_NorthHemi_Regression.png\")\n",
    "print(f\"The r-value is {rvalue}\")"
   ]
  },
  {
   "cell_type": "markdown",
   "metadata": {},
   "source": [
    "####  Southern Hemisphere - Cloudiness (%) vs. Latitude Linear Regression"
   ]
  },
  {
   "cell_type": "code",
   "execution_count": 72,
   "metadata": {},
   "outputs": [
    {
     "name": "stdout",
     "output_type": "stream",
     "text": [
      "The r-value is 0.029986977076420666\n"
     ]
    },
    {
     "data": {
      "image/png": "[encoded data removed]",
      "text/plain": [
       "<Figure size 432x288 with 1 Axes>"
      ]
     },
     "metadata": {
      "needs_background": "light"
     },
     "output_type": "display_data"
    }
   ],
   "source": [
    "x_values = south_hemi[\"Lat\"]\n",
    "y_values = south_hemi[\"Cloudiness\"]\n",
    "plt.scatter(x_values,y_values)\n",
    "plt.xlabel(\"Latitude\")\n",
    "plt.ylabel(\"Cloudiness\")\n",
    "(slope,intercept, rvalue, pvalue, stderr) = linregress(x_values, y_values)\n",
    "regress_values = x_values * slope + intercept\n",
    "line_eq = \"y = \" + str(round(slope,2)) + \"x + \" + str(round(intercept,2))\n",
    "plt.plot(x_values, regress_values,\"r-\")\n",
    "plt.annotate(line_eq,(8,min(south_hemi[\"Cloudiness\"])),fontsize=14,color=\"red\")\n",
    "plt.show\n",
    "plt.savefig(\"Output\\Lat_Cloudiness_SouthHemi_Regression.png\")\n",
    "print(f\"The r-value is {rvalue}\")\n",
    "\n",
    "#From the charts and the analysis we can deduct that cloudiness increases as we steer away from the equator.\n",
    "#However, the relationship between these two factors is not very strong, but it exists."
   ]
  },
  {
   "cell_type": "markdown",
   "metadata": {},
   "source": [
    "####  Northern Hemisphere - Wind Speed (mph) vs. Latitude Linear Regression"
   ]
  },
  {
   "cell_type": "code",
   "execution_count": 73,
   "metadata": {},
   "outputs": [
    {
     "name": "stdout",
     "output_type": "stream",
     "text": [
      "The r-value is 0.062496688545602606\n"
     ]
    },
    {
     "data": {
      "image/png": "[encoded data removed]",
      "text/plain": [
       "<Figure size 432x288 with 1 Axes>"
      ]
     },
     "metadata": {
      "needs_background": "light"
     },
     "output_type": "display_data"
    }
   ],
   "source": [
    "x_values = north_hemi[\"Lat\"]\n",
    "y_values = north_hemi[\"Wind Speed\"]\n",
    "plt.scatter(x_values,y_values)\n",
    "plt.xlabel(\"Latitude\")\n",
    "plt.ylabel(\"Wind Speed\")\n",
    "(slope,intercept, rvalue, pvalue, stderr) = linregress(x_values, y_values)\n",
    "regress_values = x_values * slope + intercept\n",
    "line_eq = \"y = \" + str(round(slope,2)) + \"x + \" + str(round(intercept,2))\n",
    "plt.plot(x_values, regress_values,\"r-\")\n",
    "plt.annotate(line_eq,(8,min(north_hemi[\"Wind Speed\"])),fontsize=14,color=\"red\")\n",
    "plt.show\n",
    "plt.savefig(\"Output\\Lat_WindSpeed_NorthHemi_Regression.png\")\n",
    "print(f\"The r-value is {rvalue}\")"
   ]
  },
  {
   "cell_type": "markdown",
   "metadata": {},
   "source": [
    "####  Southern Hemisphere - Wind Speed (mph) vs. Latitude Linear Regression"
   ]
  },
  {
   "cell_type": "code",
   "execution_count": 74,
   "metadata": {},
   "outputs": [
    {
     "name": "stdout",
     "output_type": "stream",
     "text": [
      "The r-value is -0.22337197149751364\n"
     ]
    },
    {
     "data": {
      "image/png": "[encoded data removed]",
      "text/plain": [
       "<Figure size 432x288 with 1 Axes>"
      ]
     },
     "metadata": {
      "needs_background": "light"
     },
     "output_type": "display_data"
    }
   ],
   "source": [
    "x_values = south_hemi[\"Lat\"]\n",
    "y_values = south_hemi[\"Wind Speed\"]\n",
    "plt.scatter(x_values,y_values)\n",
    "plt.xlabel(\"Latitude\")\n",
    "plt.ylabel(\"Wind Speed\")\n",
    "(slope,intercept, rvalue, pvalue, stderr) = linregress(x_values, y_values)\n",
    "regress_values = x_values * slope + intercept\n",
    "line_eq = \"y = \" + str(round(slope,2)) + \"x + \" + str(round(intercept,2))\n",
    "plt.plot(x_values, regress_values,\"r-\")\n",
    "plt.annotate(line_eq,(8,min(south_hemi[\"Wind Speed\"])),fontsize=14,color=\"red\")\n",
    "plt.show\n",
    "plt.savefig(\"Output\\Lat_WindSpeed_SouthHemi_Regression.png\")\n",
    "print(f\"The r-value is {rvalue}\")\n",
    "\n",
    "#After the analysis of wind speed vs latitude we can tell there is a correlation between these two factors. \n",
    "#We can conlcude that wind speeds reduce as we are closer to the equator."
   ]
  },
  {
   "cell_type": "code",
   "execution_count": null,
   "metadata": {},
   "outputs": [],
   "source": []
  }
 ],
 "metadata": {
  "anaconda-cloud": {},
  "kernel_info": {
   "name": "python3"
  },
  "kernelspec": {
   "display_name": "Python 3",
   "language": "python",
   "name": "python3"
  },
  "language_info": {
   "codemirror_mode": {
    "name": "ipython",
    "version": 3
   },
   "file_extension": ".py",
   "mimetype": "text/x-python",
   "name": "python",
   "nbconvert_exporter": "python",
   "pygments_lexer": "ipython3",
   "version": "3.8.3"
  },
  "latex_envs": {
   "LaTeX_envs_menu_present": true,
   "autoclose": false,
   "autocomplete": true,
   "bibliofile": "biblio.bib",
   "cite_by": "apalike",
   "current_citInitial": 1,
   "eqLabelWithNumbers": true,
   "eqNumInitial": 1,
   "hotkeys": {
    "equation": "Ctrl-E",
    "itemize": "Ctrl-I"
   },
   "labels_anchors": false,
   "latex_user_defs": false,
   "report_style_numbering": false,
   "user_envs_cfg": false
  },
  "nteract": {
   "version": "0.12.3"
  }
 },
 "nbformat": 4,
 "nbformat_minor": 2
}
